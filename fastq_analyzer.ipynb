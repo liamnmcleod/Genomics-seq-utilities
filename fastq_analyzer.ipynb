{
 "cells": [
  {
   "cell_type": "code",
   "execution_count": null,
   "id": "0402f958-1b2f-40db-b320-49ebca98f86b",
   "metadata": {},
   "outputs": [],
   "source": [
    "#Opens a FASTQ and retrieves just sequence and quality score data \n",
    "\n",
    "filename = r\"C:\\Users\\liamm\\Desktop\\ERR037900_1.first1000.fastq\"\n",
    "\n",
    "def read_fastq(filename):\n",
    "    sequences = []\n",
    "    qualities = []\n",
    "    with open(filename) as fh:\n",
    "        while True:\n",
    "            fh.readline()\n",
    "            seq = fh.readline().rstrip()\n",
    "            fh.readline()\n",
    "            qual = fh.readline().rstrip()\n",
    "            if len(seq) == 0:\n",
    "                break \n",
    "            sequences.append(seq)\n",
    "            qualities.append(qual)\n",
    "        \n",
    "    return sequences, qualities\n",
    "seqs, quals = read_fastq(filename)"
   ]
  },
  {
   "cell_type": "code",
   "execution_count": null,
   "id": "45a9a3bb-16ce-4dde-a7b0-2b5b3a491c8e",
   "metadata": {},
   "outputs": [],
   "source": [
    "#Phred33 to Q score function\n",
    "\n",
    "def phred33_to_q(qual):\n",
    "    return ord(qual) - 33"
   ]
  },
  {
   "cell_type": "code",
   "execution_count": null,
   "id": "4ee16fb4-b94a-446c-b2a8-fb619e629520",
   "metadata": {},
   "outputs": [],
   "source": [
    "#Histogram to visualize quality\n",
    "\n",
    "def create_hist(qualities):\n",
    "    hist = [0] * 50\n",
    "    for qual in qualities:\n",
    "        for phred in qual:\n",
    "            q = phred33_to_q(phred)\n",
    "            hist[q] += 1 \n",
    "    return hist\n",
    "h = create_hist(quals)\n",
    "print(h)"
   ]
  },
  {
   "cell_type": "code",
   "execution_count": null,
   "id": "e8c6f19d-8157-4380-b56c-2d37ea4552ed",
   "metadata": {},
   "outputs": [],
   "source": [
    "#Graph with matplot lib \n",
    "\n",
    "%matplotlib inline\n",
    "import matplotlib.pyplot as plt\n",
    "plt.bar(range(len(h)), h)\n",
    "plt.show\n"
   ]
  },
  {
   "cell_type": "code",
   "execution_count": null,
   "id": "55f72d35-7cd4-452e-bcab-738f7ce4de45",
   "metadata": {},
   "outputs": [],
   "source": [
    "def find_gc_by_pos(reads):\n",
    "    gc = [0] * 100\n",
    "    totals = [0] * 100\n",
    "\n",
    "    for read in reads:\n",
    "        for i in range(len(read)):\n",
    "            if read[i] == 'C' or read[i] == 'G':\n",
    "                gc[i] += 1 \n",
    "                totals[i] += 1\n",
    "    for i in range(len(gc)):\n",
    "        if totals[i] > 0:\n",
    "            gc[i] /= float(totals[i])\n",
    "    return gc\n",
    "\n",
    "gc = find_gc_by_pos(seqs)\n",
    "plt.plot(range(len(gc)), gc)\n",
    "plt.show()"
   ]
  },
  {
   "cell_type": "code",
   "execution_count": null,
   "id": "ca7de832-d90b-4383-a181-26baec8b2e26",
   "metadata": {},
   "outputs": [],
   "source": [
    "import collections\n",
    "count = collections.Counter()\n",
    "for seq in seqs:\n",
    "    count.update(seq)\n",
    "    \n",
    "print(count)"
   ]
  },
  {
   "cell_type": "code",
   "execution_count": null,
   "id": "c7fc7837-7774-42a2-b93e-c59eb85d122e",
   "metadata": {},
   "outputs": [],
   "source": []
  }
 ],
 "metadata": {
  "kernelspec": {
   "display_name": "Python [conda env:torch_env]",
   "language": "python",
   "name": "conda-env-torch_env-py"
  },
  "language_info": {
   "codemirror_mode": {
    "name": "ipython",
    "version": 3
   },
   "file_extension": ".py",
   "mimetype": "text/x-python",
   "name": "python",
   "nbconvert_exporter": "python",
   "pygments_lexer": "ipython3",
   "version": "3.10.18"
  }
 },
 "nbformat": 4,
 "nbformat_minor": 5
}
